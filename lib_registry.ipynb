{
 "cells": [
  {
   "cell_type": "code",
   "execution_count": null,
   "outputs": [],
   "source": [
    "# update pip and setuptools\n",
    "import sys\n",
    "!{sys.executable} -m pip install --upgrade pip\n",
    "!{sys.executable} -m pip install --upgrade setuptools\n",
    "\n",
    "# install lib_registry from pypi\n",
    "!{sys.executable} -m pip install --upgrade lib_registry\n",
    "\n",
    "# install lib_registry from github\n",
    "!{sys.executable} -m pip install --upgrade git+https://github.com/bitranox/lib_registry.git"
   ],
   "metadata": {
    "collapsed": false,
    "pycharm": {
     "name": "#%%\n"
    }
   }
  },
  {
   "metadata": {
    "trusted": true,
    "pycharm": {
     "name": "#%%\n"
    }
   },
   "cell_type": "code",
   "source": [
    "# please be noted that the lib_registry interface will change (a lot) in the future, to offer pathlib-like\n",
    "# behaviour, as well as context managers, etc.\n",
    "\n",
    "# this version is fully functional however and allows to read / write / query the windows registry\n",
    "# here a few examples !\n",
    "\n",
    "# lib_registry is using fake_winreg to simulate a windows registry on linux, so this is possible here on jupyter.\n",
    "from lib_registry import *\n",
    "registry=Registry()"
   ],
   "execution_count": null,
   "outputs": []
  },
  {
   "cell_type": "code",
   "execution_count": null,
   "outputs": [],
   "source": [
    "# query values - there are only a few values set in the fake registry You can query here.\n",
    "# on Your windows machine of course You can query all values You have permission for.\n",
    "registry.get_value(key='HKLM\\\\SOFTWARE\\\\Microsoft\\\\Windows NT\\\\CurrentVersion', value_name='CurrentBuild')"
   ],
   "metadata": {
    "collapsed": false,
    "pycharm": {
     "name": "#%%\n"
    }
   }
  },
  {
   "cell_type": "code",
   "execution_count": null,
   "outputs": [],
   "source": [
    "# all subkeys, values, etc use generator objects\n",
    "registry.subkeys(winreg.HKEY_USERS)"
   ],
   "metadata": {
    "collapsed": false,
    "pycharm": {
     "name": "#%%\n"
    }
   }
  },
  {
   "cell_type": "code",
   "execution_count": null,
   "outputs": [],
   "source": [
    "# so lets make a list of all subkeys of HKEY_USERS\n",
    "list(registry.subkeys(winreg.HKEY_USERS))"
   ],
   "metadata": {
    "collapsed": false,
    "pycharm": {
     "name": "#%%\n"
    }
   }
  },
  {
   "cell_type": "code",
   "execution_count": null,
   "outputs": [],
   "source": [
    "# create a key - pathlib like options (in preparation to pathlib-like behaviour)\n",
    "reg_handle = registry.create_key('HKCU\\\\Software\\\\lib_registry_test', exist_ok=True, parents=True)"
   ],
   "metadata": {
    "collapsed": false,
    "pycharm": {
     "name": "#%%\n"
    }
   }
  },
  {
   "cell_type": "code",
   "execution_count": null,
   "outputs": [],
   "source": [
    "# set a value, REG_TYPE can be given or is automatically set\n",
    "binary_test_value=(chr(128512) * 10).encode('utf-8')\n",
    "registry.set_value(reg_handle, value_name='test_string', value='HAM')\n",
    "registry.set_value(reg_handle, value_name='test_multi_string', value=['HAM', 'SPAM'])\n",
    "registry.set_value(reg_handle, value_name='test_int', value=42)\n",
    "registry.set_value(reg_handle, value_name='test_binary', value=binary_test_value)\n",
    "registry.set_value(reg_handle, value_name='test_none', value=None)"
   ],
   "metadata": {
    "collapsed": false,
    "pycharm": {
     "name": "#%%\n"
    }
   }
  },
  {
   "cell_type": "code",
   "execution_count": null,
   "outputs": [],
   "source": [
    "# get a value from the Registry\n",
    "registry.get_value(reg_handle, value_name='test_string')\n",
    "registry.get_value(reg_handle, value_name='test_multi_string')\n",
    "registry.get_value(reg_handle, value_name='test_int')\n",
    "registry.get_value(reg_handle, value_name='test_binary')\n",
    "# or get it by name of the key\n",
    "registry.get_value(key='HKCU\\\\Software\\\\lib_registry_test', value_name='test_none')"
   ],
   "metadata": {
    "collapsed": false,
    "pycharm": {
     "name": "#%%\n"
    }
   }
  },
  {
   "cell_type": "code",
   "execution_count": null,
   "outputs": [],
   "source": [
    "# delete a value from the registry\n",
    "registry.delete_value(key='HKCU\\\\Software\\\\lib_registry_test', value_name='test_string')\n"
   ],
   "metadata": {
    "collapsed": false,
    "pycharm": {
     "name": "#%%\n"
    }
   }
  },
  {
   "cell_type": "code",
   "execution_count": null,
   "outputs": [],
   "source": [
    "# delete a key from the registry\n",
    "registry.delete_key(key='HKCU\\\\Software\\\\lib_registry_test')"
   ],
   "metadata": {
    "collapsed": false,
    "pycharm": {
     "name": "#%%\n"
    }
   }
  },
  {
   "cell_type": "code",
   "execution_count": null,
   "outputs": [],
   "source": [
    "# some tools like SID's (Secure ID)\n",
    "list(registry.sids())\n"
   ],
   "metadata": {
    "collapsed": false,
    "pycharm": {
     "name": "#%%\n"
    }
   }
  },
  {
   "cell_type": "code",
   "execution_count": null,
   "outputs": [],
   "source": [
    "# or get the username from a SID\n",
    "for sid in registry.sids():\n",
    "    print(registry.username_from_sid(sid))\n"
   ],
   "metadata": {
    "collapsed": false,
    "pycharm": {
     "name": "#%%\n"
    }
   }
  }
 ],
 "metadata": {
  "language_info": {
   "name": "python",
   "version": "3.7.6",
   "mimetype": "text/x-python",
   "codemirror_mode": {
    "name": "ipython",
    "version": 3
   },
   "pygments_lexer": "ipython3",
   "nbconvert_exporter": "python",
   "file_extension": ".py"
  },
  "kernelspec": {
   "name": "python3",
   "display_name": "Python 3",
   "language": "python"
  }
 },
 "nbformat": 4,
 "nbformat_minor": 4
}